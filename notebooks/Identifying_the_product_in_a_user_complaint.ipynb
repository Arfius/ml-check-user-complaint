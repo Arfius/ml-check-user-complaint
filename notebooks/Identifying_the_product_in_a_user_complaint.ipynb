{
 "cells": [
  {
   "cell_type": "markdown",
   "metadata": {},
   "source": [
    "# Identifying the product in a user complaint\n",
    "author : Alfonso Farruggia"
   ]
  },
  {
   "cell_type": "markdown",
   "metadata": {},
   "source": [
    "### EXPLORATION, ANALYSIS, MODELLING & OPERATIONALIZATION\n",
    "The complaints_users table contains all the complaints made by users and the type of product the user identified in the complaint. The goal is to use the text data (“complaint_text) provided by the user to design an ML algorithm to identify the product it’s related to (“main-product”, “sub-product”)"
   ]
  },
  {
   "cell_type": "markdown",
   "metadata": {},
   "source": [
    "## Exploratory Data Analysis:\n",
    "Explore the text data and the different products."
   ]
  },
  {
   "cell_type": "code",
   "execution_count": 1,
   "metadata": {},
   "outputs": [
    {
     "name": "stderr",
     "output_type": "stream",
     "text": [
      "/home/alfonso/.local/lib/python3.6/site-packages/IPython/core/interactiveshell.py:3051: DtypeWarning: Columns (2) have mixed types. Specify dtype option on import or set low_memory=False.\n",
      "  interactivity=interactivity, compiler=compiler, result=result)\n"
     ]
    }
   ],
   "source": [
    "import pandas as pd\n",
    "c_users = pd.read_csv('../data/complaints_users.csv')\n",
    "products = pd.read_csv('../data/products.csv')"
   ]
  },
  {
   "cell_type": "markdown",
   "metadata": {},
   "source": [
    "### **What are your preliminary observations?**\n",
    "_We can observe that the dataset is composed of 383066 entries(a). the users have complained about all the products(b). The most complained is the product with id 26 whereas the lowest has id 97 (c,d). To be noted the huge difference between the highest value and the lowest value of the number of complaints. This aspect needs to be explored in depth._ "
   ]
  },
  {
   "cell_type": "code",
   "execution_count": 2,
   "metadata": {},
   "outputs": [],
   "source": [
    "# c_users.head()"
   ]
  },
  {
   "cell_type": "code",
   "execution_count": 3,
   "metadata": {},
   "outputs": [],
   "source": [
    "# products.head()"
   ]
  },
  {
   "cell_type": "code",
   "execution_count": 4,
   "metadata": {},
   "outputs": [
    {
     "name": "stdout",
     "output_type": "stream",
     "text": [
      "a. Training entries: 383066\n",
      "b. Product in training set: 98  - Products in DB: 98\n",
      "c. Most complained is the product with id 26 with  89994 reclaim/s\n",
      "d. Most complained is the product with id 97 with  1 reclaim/s\n"
     ]
    }
   ],
   "source": [
    "print(\"a. Training entries:\",c_users.shape[0])\n",
    "unique_products = c_users.groupby('PRODUCT_ID')[\"COMPLAINT_ID\"].nunique().sort_values(ascending=False).reset_index()\n",
    "print(\"b. Product in training set:\",unique_products.shape[0],\" - Products in DB:\",products.shape[0])\n",
    "print(\"c. Most complained is the product with id\",unique_products[\"PRODUCT_ID\"][0],\"with \",unique_products[\"COMPLAINT_ID\"][0],\"reclaim/s\")\n",
    "print(\"d. Most complained is the product with id\",unique_products[\"PRODUCT_ID\"][unique_products.shape[0]-1],\"with \",unique_products[\"COMPLAINT_ID\"][unique_products.shape[0]-1],\"reclaim/s\")"
   ]
  },
  {
   "cell_type": "markdown",
   "metadata": {},
   "source": [
    "### **Is the text data clean?**\n",
    "_Just showing the first comments, we can assume that the text needs to be cleaned. We can note that there are Uppercase letters, repeated dots, digit, special-characters, obfuscated data. All of these need to be processed in order to have a better representation of the text in the vectorial space._\n",
    "\n",
    "**The data needs to be preprocessed**"
   ]
  },
  {
   "cell_type": "code",
   "execution_count": 5,
   "metadata": {},
   "outputs": [
    {
     "name": "stdout",
     "output_type": "stream",
     "text": [
      "1) XXXX  and Transunion are reporting incorrectly that I am 120 days past due on loans with the XXXX  - partial account numbers XXXX ; XXXX ; XXXX ; XXXX.. These accounts reflect a {$0.00} balance and a {$0.00} past due. I have contacted the two bureaus and requested these coding errors be corrected. This incorrect reporting is harming my credit score. It is  impossible to be past due on accounts that have a {$0.00} balance and {$0.00} past due.\n"
     ]
    }
   ],
   "source": [
    "print(\"1)\",c_users[\"COMPLAINT_TEXT\"][0])\n",
    "# print(\"2)\",c_users[\"COMPLAINT_TEXT\"][1])\n",
    "# print(\"3)\",c_users[\"COMPLAINT_TEXT\"][2])\n",
    "# print(\"4)\",c_users[\"COMPLAINT_TEXT\"][3])\n",
    "# print(\"5)\",c_users[\"COMPLAINT_TEXT\"][4])"
   ]
  },
  {
   "cell_type": "markdown",
   "metadata": {},
   "source": [
    "### **Should we use all the products?**"
   ]
  },
  {
   "cell_type": "markdown",
   "metadata": {},
   "source": [
    "_Before to answer this question, we have to answer a question like this:_\n",
    "\n",
    "**Do you have enough data to well-represent all the classes (products) with the dataset?**\n",
    "\n",
    "_Answer to this question is not easy, but there are some heuristic rules in literature, for example, one of these says: a model needs X independent training examples for each class where X is equal a number of classes multiplied by a factor, for example, 10. In our case, if we want to map 98 classes (products) in our model, each class has to have about 980 comments._\n",
    "\n",
    "_Let's do some analysis using statistical parameters like mean, median, and quartile. This analysis will help us (and the company) to understand if we have to keep all the dataset or prune some entries of it._\n",
    "\n",
    "_How we have seen before, there are classes in the dataset represented by only a few occurrences, as for example for the product with id 97 that has only 1 comment. We can manage this like an outlier because it probably introduces noise into the model._ \n",
    "\n",
    "_The next question is:_ **How many entries do we have to exclude from the dataset in order to all classes are well represented into the dataset?**\n",
    "\n",
    "_For example, if we want to follow the before the heuristic rule, we can conduct evaluations using statistical parameter like mean, median and quartile and, after, check if the condition is respected:_\n",
    "\n",
    "* Filtering by the mean: 21 classes are kept (77 classes are excluded). Each class is represented by more than 3908 comments. 89% of comments are used to train the model.\n",
    "* Filtering by the median: 49 classes are kept (49 classes are excluded). Each class is represented by more then 864 comments. 97% of comments are used to train the model.\n",
    "* Filtering by the quartile (approx. value): 61 classes are kept (37 classes are excluded). Each class is represented by more then 432 comments. 97% of comments are used to train the model.\n",
    "\n",
    "_Now we should answer this question:_ **Would the company lose part of the information in order to keep a more accurate model?***"
   ]
  },
  {
   "cell_type": "code",
   "execution_count": 6,
   "metadata": {},
   "outputs": [
    {
     "name": "stdout",
     "output_type": "stream",
     "text": [
      "Mean over complained products 3908.8367346938776\n",
      "Numner classes 21 over 98\n",
      "Total comments 321748 over 383066  -  83.99283674353767 %\n"
     ]
    },
    {
     "data": {
      "image/png": "[encoded data removed]",
      "text/plain": [
       "<Figure size 432x288 with 1 Axes>"
      ]
     },
     "metadata": {
      "needs_background": "light"
     },
     "output_type": "display_data"
    }
   ],
   "source": [
    "mean_products = unique_products[\"COMPLAINT_ID\"].mean()\n",
    "print(\"Mean over complained products\",(mean_products))\n",
    "h_prod_good_mean = unique_products[unique_products[\"COMPLAINT_ID\"]>mean_products][\"COMPLAINT_ID\"]\n",
    "print(\"Numner classes\",h_prod_good_mean.shape[0],\"over\",products.shape[0])\n",
    "h_prod_good_mean.plot.bar()\n",
    "print(\"Total comments\",sum(h_prod_good_mean),\"over\",c_users.shape[0],\" - \",sum(h_prod_good_mean)/c_users.shape[0]*100,\"%\")"
   ]
  },
  {
   "cell_type": "code",
   "execution_count": 7,
   "metadata": {},
   "outputs": [
    {
     "name": "stdout",
     "output_type": "stream",
     "text": [
      "Median over complained products 864.0\n",
      "Numner classes 49 over 98\n",
      "Total comments 372129 over 383066  -  97.14487842826041 %\n"
     ]
    },
    {
     "data": {
      "image/png": "[encoded data removed]",
      "text/plain": [
       "<Figure size 432x288 with 1 Axes>"
      ]
     },
     "metadata": {
      "needs_background": "light"
     },
     "output_type": "display_data"
    }
   ],
   "source": [
    "median_products = unique_products[\"COMPLAINT_ID\"].median()\n",
    "print(\"Median over complained products\",(median_products))\n",
    "h_prod_good_median = unique_products[unique_products[\"COMPLAINT_ID\"]>median_products][\"COMPLAINT_ID\"]\n",
    "print(\"Numner classes\",h_prod_good_median.shape[0],\"over\",products.shape[0])\n",
    "h_prod_good_median.plot.bar()\n",
    "print(\"Total comments\",sum(h_prod_good_median),\"over\",c_users.shape[0],\" - \",sum(h_prod_good_median)/c_users.shape[0]*100,\"%\")"
   ]
  },
  {
   "cell_type": "code",
   "execution_count": 8,
   "metadata": {},
   "outputs": [
    {
     "name": "stdout",
     "output_type": "stream",
     "text": [
      "Quartile over complained products 432.0\n",
      "Numner classes 61 over 98\n",
      "Total comments 380260 over 383066  -  99.26748915330518 %\n"
     ]
    },
    {
     "data": {
      "image/png": "[encoded data removed]",
      "text/plain": [
       "<Figure size 432x288 with 1 Axes>"
      ]
     },
     "metadata": {
      "needs_background": "light"
     },
     "output_type": "display_data"
    }
   ],
   "source": [
    "quartile_products = unique_products[\"COMPLAINT_ID\"].median()/2 # approx value!\n",
    "print(\"Quartile over complained products\",(quartile_products))\n",
    "h_prod_good_quartile = unique_products[unique_products[\"COMPLAINT_ID\"]>quartile_products][\"COMPLAINT_ID\"]\n",
    "print(\"Numner classes\",h_prod_good_quartile.shape[0],\"over\",products.shape[0])\n",
    "h_prod_good_median.plot.bar()\n",
    "print(\"Total comments\",sum(h_prod_good_quartile),\"over\",c_users.shape[0],\" - \",sum(h_prod_good_quartile)/c_users.shape[0]*100,\"%\")"
   ]
  },
  {
   "cell_type": "markdown",
   "metadata": {},
   "source": [
    "## Feature Engineering\n",
    "Utilizing your findings from part a) and some creativity, create some NLP features. Explain your reasoning behind the features.\n",
    "\n",
    "**We assume that the company is happy if we filter by MEAN because the company wants to focus on the most complained products. (Actually, I'm happy because I reduce the training time)**\n",
    "\n",
    "This assumption reduces the number of products from 98 to 21. For future convenience, I map a new PRODUCT_ID into the dataset, in this way the NEW_PRODUCT_ID starts from 0 to 20. This will help us in the hot_vector creation via to_convert() keras function for the multi-label classification.\n",
    "\n",
    "Before to move the training into the model, each comment is preprocessed using DataCleaning class. The **DataCleaning** class does the following steps:\n",
    "* Replace contractions\n",
    "* Remove not ascii code\n",
    "* Lowercase\n",
    "* Remove punctuation\n",
    "* Manage currency, numbers and date (obfuscate)"
   ]
  },
  {
   "cell_type": "code",
   "execution_count": 9,
   "metadata": {},
   "outputs": [
    {
     "name": "stderr",
     "output_type": "stream",
     "text": [
      "/home/alfonso/.local/lib/python3.6/site-packages/pandas/core/indexing.py:376: SettingWithCopyWarning: \n",
      "A value is trying to be set on a copy of a slice from a DataFrame.\n",
      "Try using .loc[row_indexer,col_indexer] = value instead\n",
      "\n",
      "See the caveats in the documentation: http://pandas.pydata.org/pandas-docs/stable/user_guide/indexing.html#returning-a-view-versus-a-copy\n",
      "  self.obj[key] = _infer_fill_value(value)\n",
      "/home/alfonso/.local/lib/python3.6/site-packages/pandas/core/indexing.py:494: SettingWithCopyWarning: \n",
      "A value is trying to be set on a copy of a slice from a DataFrame.\n",
      "Try using .loc[row_indexer,col_indexer] = value instead\n",
      "\n",
      "See the caveats in the documentation: http://pandas.pydata.org/pandas-docs/stable/user_guide/indexing.html#returning-a-view-versus-a-copy\n",
      "  self.obj[item] = s\n",
      "/home/alfonso/.local/lib/python3.6/site-packages/ipykernel_launcher.py:8: SettingWithCopyWarning: \n",
      "A value is trying to be set on a copy of a slice from a DataFrame\n",
      "\n",
      "See the caveats in the documentation: http://pandas.pydata.org/pandas-docs/stable/user_guide/indexing.html#returning-a-view-versus-a-copy\n",
      "  \n",
      "/home/alfonso/.local/lib/python3.6/site-packages/pandas/core/generic.py:9114: SettingWithCopyWarning: \n",
      "A value is trying to be set on a copy of a slice from a DataFrame\n",
      "\n",
      "See the caveats in the documentation: http://pandas.pydata.org/pandas-docs/stable/user_guide/indexing.html#returning-a-view-versus-a-copy\n",
      "  self._update_inplace(new_data)\n",
      "/home/alfonso/.local/lib/python3.6/site-packages/IPython/core/interactiveshell.py:3319: SettingWithCopyWarning: \n",
      "A value is trying to be set on a copy of a slice from a DataFrame\n",
      "\n",
      "See the caveats in the documentation: http://pandas.pydata.org/pandas-docs/stable/user_guide/indexing.html#returning-a-view-versus-a-copy\n",
      "  exec(code_obj, self.user_global_ns, self.user_ns)\n"
     ]
    }
   ],
   "source": [
    "import numpy as np\n",
    "p_id = unique_products[unique_products[\"COMPLAINT_ID\"]>mean_products][\"PRODUCT_ID\"]\n",
    "dataset = c_users[c_users[\"PRODUCT_ID\"].isin(p_id)]\n",
    "dataset.loc[:,\"NEW_PRODUCT_ID\"] = None\n",
    "                                        \n",
    "for p_id_i in range(len(p_id)):\n",
    "    indexes = dataset[\"PRODUCT_ID\"] == p_id[p_id_i]\n",
    "    dataset[\"NEW_PRODUCT_ID\"][indexes] = p_id_i\n",
    "\n",
    "    \n",
    "_r_map = dataset[['PRODUCT_ID', 'NEW_PRODUCT_ID']]\n",
    "mapping = [_r_map['PRODUCT_ID'].unique(),_r_map['NEW_PRODUCT_ID'].unique()]"
   ]
  },
  {
   "cell_type": "code",
   "execution_count": 10,
   "metadata": {},
   "outputs": [],
   "source": [
    "import re\n",
    "from tqdm import tqdm\n",
    "from nltk.corpus import stopwords\n",
    "import sys  \n",
    "sys.path.insert(0, '../code')\n",
    "from data_cleaning import DataCleaning"
   ]
  },
  {
   "cell_type": "code",
   "execution_count": 11,
   "metadata": {},
   "outputs": [
    {
     "name": "stderr",
     "output_type": "stream",
     "text": [
      "100%|██████████| 321748/321748 [19:20<00:00, 277.33it/s]\n"
     ]
    }
   ],
   "source": [
    "dc = DataCleaning()\n",
    "texts = [] \n",
    "for line in tqdm(dataset[\"COMPLAINT_TEXT\"], total=dataset.shape[0]): \n",
    "    texts.append(dc.normalize(line))"
   ]
  },
  {
   "cell_type": "markdown",
   "metadata": {},
   "source": [
    "## Model Selection/Validation\n",
    "\n",
    "Create an ML model which identifies the product in the complaint."
   ]
  },
  {
   "cell_type": "markdown",
   "metadata": {},
   "source": [
    "**Explain model/parameter selection and assess its quality.**\n",
    "\n",
    "* The model is set to accept a dictionary composed of _MAX_WORDS_ number to include all the possible words in comments in the training/classification process.\n",
    "* The max number of words allowed in a comment is 150 _(MAX_SEQ_LENGTH)_ , this could be a scenario if the complaining message coming from a chat or micro-blogging platform.\n",
    "* I decide to use [Glove](https://nlp.stanford.edu/projects/glove/) to create the embedding matrix and each word is represented by a vector of 50 features (for better performance this number should be increased)."
   ]
  },
  {
   "cell_type": "code",
   "execution_count": 12,
   "metadata": {},
   "outputs": [],
   "source": [
    "MAX_WORDS = 120000 # max words for tokenizer\n",
    "MAX_SEQ_LENGTH = 150 # max length of each entry comment ( num of words)\n",
    "GLOV_EMBEDDING_DIM = 50 # Glove dimensions \n",
    "GLOVE_DIR = \"../data/glove.6B/glove.6B.\"+str(GLOV_EMBEDDING_DIM)+\"d.txt\""
   ]
  },
  {
   "cell_type": "code",
   "execution_count": 13,
   "metadata": {},
   "outputs": [],
   "source": [
    "from tensorflow.keras.preprocessing.text import Tokenizer\n",
    "tokenizer = Tokenizer(num_words=MAX_WORDS)\n",
    "tokenizer.fit_on_texts(texts)"
   ]
  },
  {
   "cell_type": "code",
   "execution_count": 14,
   "metadata": {},
   "outputs": [
    {
     "name": "stdout",
     "output_type": "stream",
     "text": [
      "Vocabulary size: 138116 MAX_SEQ_LENGTH 150\n"
     ]
    }
   ],
   "source": [
    "sequences = tokenizer.texts_to_sequences(texts)\n",
    "word_index = tokenizer.word_index\n",
    "print('Vocabulary size:', len(word_index), \"MAX_SEQ_LENGTH\",MAX_SEQ_LENGTH)"
   ]
  },
  {
   "cell_type": "code",
   "execution_count": 15,
   "metadata": {},
   "outputs": [],
   "source": [
    "from tensorflow.keras.preprocessing.sequence import pad_sequences\n",
    "x_seq = pad_sequences(sequences, padding = 'post', maxlen = MAX_SEQ_LENGTH)"
   ]
  },
  {
   "cell_type": "markdown",
   "metadata": {},
   "source": [
    "**Why have you chosen this feature/model combination?**\n",
    "\n",
    "* After the pre-processing, the dataset is composed of 21 products. This number is the number of the output layer.\n",
    "* The network will produce a float point vector of 21 values, one for each product. Given a comment to be classified, the highest value in the output vector denotes the most probable product associated with that comment.\n",
    "* Dataset is split in 75% training and 25% validation\n",
    "* The hidden layer is composed of 42 neurons ( 2 x output neurons)\n",
    "* The NN is composed of :\n",
    "    * 3 layers : LSTM(42) -> DENSE(42) -> Dense(21)\n",
    "        * The activation fuction of last layer is the softmax, this function normalize the values between 0 to 1\n",
    "        * Dropout is used to reduce overfitting (20% of neurones are dropped out randomically)\n",
    "        * LSTM permits to keep the status (memory) between RNN\n",
    "    * The input of LSTM is a Embedding computed with Glove\n",
    "* To test the perfomance, I measure the accuracy and the loss in 2 epochs ."
   ]
  },
  {
   "cell_type": "code",
   "execution_count": 16,
   "metadata": {},
   "outputs": [],
   "source": [
    "from tensorflow.keras.utils import to_categorical\n",
    "labels = to_categorical(dataset[\"NEW_PRODUCT_ID\"].values)"
   ]
  },
  {
   "cell_type": "code",
   "execution_count": 17,
   "metadata": {},
   "outputs": [],
   "source": [
    "NN_OUTPUT = labels.shape[1]\n",
    "NN_DROPOUT = 0.2\n",
    "NN_INPUT = NN_OUTPUT * 2\n",
    "NAME_MODEL = \"model_\"+str(NN_OUTPUT)+\"_products.h5\"\n",
    "EPOCHS = 2\n",
    "BATCH_SIZE = 32"
   ]
  },
  {
   "cell_type": "code",
   "execution_count": 18,
   "metadata": {},
   "outputs": [],
   "source": [
    "from sklearn.model_selection import train_test_split\n",
    "x_train, x_val, y_train, y_val = train_test_split(x_seq, labels, test_size=0.25, random_state=1)"
   ]
  },
  {
   "cell_type": "code",
   "execution_count": 19,
   "metadata": {},
   "outputs": [],
   "source": [
    "embeddings_index = {}\n",
    "f = open(GLOVE_DIR)\n",
    "for line in f:\n",
    "    values = line.split()\n",
    "    word = values[0]\n",
    "    embeddings_index[word] = np.asarray(values[1:], dtype='float32')\n",
    "f.close()\n",
    "embedding_matrix = np.random.random((len(word_index) + 1, GLOV_EMBEDDING_DIM))\n",
    "for word, i in word_index.items():\n",
    "    embedding_vector = embeddings_index.get(word)\n",
    "    if embedding_vector is not None:\n",
    "        embedding_matrix[i] = embedding_vector"
   ]
  },
  {
   "cell_type": "code",
   "execution_count": 20,
   "metadata": {},
   "outputs": [],
   "source": [
    "from tensorflow.keras.layers import *\n",
    "sequence_input = Input(shape=(MAX_SEQ_LENGTH,), dtype='int32')\n",
    "embedding_layer = Embedding(len(word_index) + 1,\n",
    "                           GLOV_EMBEDDING_DIM,\n",
    "                           weights = [embedding_matrix],\n",
    "                           input_length = MAX_SEQ_LENGTH,\n",
    "                           trainable=False,\n",
    "                           name = 'embeddings')\n",
    "embedded_sequences = embedding_layer(sequence_input)"
   ]
  },
  {
   "cell_type": "code",
   "execution_count": 21,
   "metadata": {},
   "outputs": [],
   "source": [
    "x = LSTM(NN_INPUT, return_sequences=True,name='lstm_complaint_layer')(embedded_sequences)\n",
    "x = GlobalMaxPool1D()(x)\n",
    "x = Dropout(NN_DROPOUT)(x)\n",
    "x = Dense(NN_INPUT, activation=\"relu\")(x)\n",
    "x = Dropout(NN_DROPOUT)(x)\n",
    "preds = Dense(NN_OUTPUT, activation=\"sigmoid\")(x)"
   ]
  },
  {
   "cell_type": "code",
   "execution_count": 22,
   "metadata": {},
   "outputs": [
    {
     "name": "stdout",
     "output_type": "stream",
     "text": [
      "Model: \"model\"\n",
      "_________________________________________________________________\n",
      "Layer (type)                 Output Shape              Param #   \n",
      "=================================================================\n",
      "input_1 (InputLayer)         [(None, 150)]             0         \n",
      "_________________________________________________________________\n",
      "embeddings (Embedding)       (None, 150, 50)           6905850   \n",
      "_________________________________________________________________\n",
      "lstm_complaint_layer (LSTM)  (None, 150, 42)           15624     \n",
      "_________________________________________________________________\n",
      "global_max_pooling1d (Global (None, 42)                0         \n",
      "_________________________________________________________________\n",
      "dropout (Dropout)            (None, 42)                0         \n",
      "_________________________________________________________________\n",
      "dense (Dense)                (None, 42)                1806      \n",
      "_________________________________________________________________\n",
      "dropout_1 (Dropout)          (None, 42)                0         \n",
      "_________________________________________________________________\n",
      "dense_1 (Dense)              (None, 21)                903       \n",
      "=================================================================\n",
      "Total params: 6,924,183\n",
      "Trainable params: 18,333\n",
      "Non-trainable params: 6,905,850\n",
      "_________________________________________________________________\n"
     ]
    }
   ],
   "source": [
    "from tensorflow.keras.models import Model\n",
    "model = Model(sequence_input, preds)\n",
    "model.compile(loss = 'binary_crossentropy',\n",
    "             optimizer='adam',\n",
    "             metrics = ['accuracy'])\n",
    "model.summary()"
   ]
  },
  {
   "cell_type": "code",
   "execution_count": 23,
   "metadata": {},
   "outputs": [
    {
     "name": "stdout",
     "output_type": "stream",
     "text": [
      "Train on 241311 samples, validate on 80437 samples\n",
      "Epoch 1/2\n",
      "241311/241311 [==============================] - 828s 3ms/sample - loss: 0.1351 - accuracy: 0.9553 - val_loss: 0.1118 - val_accuracy: 0.9578\n",
      "Epoch 2/2\n",
      "241311/241311 [==============================] - 887s 4ms/sample - loss: 0.1135 - accuracy: 0.9577 - val_loss: 0.1055 - val_accuracy: 0.9585\n"
     ]
    }
   ],
   "source": [
    "history = model.fit(x_train, y_train, epochs = EPOCHS, batch_size=BATCH_SIZE, validation_data=(x_val, y_val))"
   ]
  },
  {
   "cell_type": "code",
   "execution_count": 24,
   "metadata": {},
   "outputs": [],
   "source": [
    "model.save(\"../artifacts/\"+NAME_MODEL)"
   ]
  },
  {
   "cell_type": "code",
   "execution_count": 25,
   "metadata": {},
   "outputs": [
    {
     "data": {
      "image/png": "[encoded data removed]",
      "text/plain": [
       "<Figure size 432x288 with 1 Axes>"
      ]
     },
     "metadata": {
      "needs_background": "light"
     },
     "output_type": "display_data"
    }
   ],
   "source": [
    "from matplotlib import pyplot as plt\n",
    "loss = history.history['loss']\n",
    "val_loss = history.history['val_loss']\n",
    "epochs = range(1, len(loss)+1)\n",
    "plt.plot(epochs, loss, label='Training loss')\n",
    "plt.plot(epochs, val_loss, label='Validation loss')\n",
    "plt.title('Training and validation loss')\n",
    "plt.xlabel('Epochs')\n",
    "plt.ylabel('Loss')\n",
    "plt.legend()\n",
    "plt.show();"
   ]
  },
  {
   "cell_type": "code",
   "execution_count": 26,
   "metadata": {},
   "outputs": [
    {
     "data": {
      "image/png": "[encoded data removed]",
      "text/plain": [
       "<Figure size 432x288 with 1 Axes>"
      ]
     },
     "metadata": {
      "needs_background": "light"
     },
     "output_type": "display_data"
    }
   ],
   "source": [
    "accuracy = history.history['accuracy']\n",
    "val_accuracy = history.history['val_accuracy']\n",
    "plt.plot(epochs, accuracy, label='Training accuracy')\n",
    "plt.plot(epochs, val_accuracy, label='Validation accuracy')\n",
    "plt.title('Training and validation accuracy')\n",
    "plt.ylabel('Accuracy')\n",
    "plt.xlabel('Epochs')\n",
    "plt.legend()\n",
    "plt.show();"
   ]
  },
  {
   "cell_type": "markdown",
   "metadata": {},
   "source": [
    "## What would you make differently if you had more time?\n",
    "\n",
    "* To normalize the number of comments for each class in order to have a balanced distribution of comments over the classes. For example, product 26 has 89994 comments, can we reduce this number without losing the semantic representation of the class?\n",
    "* To improve the Datacleaning class with more accurate ad-hoc functions to preprocess each comment, for example, to detect special information like Bank Account Number, Companies Name, etc.\n",
    "* To evaluate different network configurations, what's happening with a Convolution Layer?\n",
    "* To test the model with k-folder cross-validation.\n",
    "* To build the confusion-matrix to evaluate its derivative parameters"
   ]
  },
  {
   "cell_type": "markdown",
   "metadata": {},
   "source": [
    "## Manual Test direcly on notebook"
   ]
  },
  {
   "cell_type": "code",
   "execution_count": 32,
   "metadata": {},
   "outputs": [],
   "source": [
    "def test_comment(text):\n",
    "    dc = DataCleaning()\n",
    "    text = dc.normalize(text)\n",
    "    good = [text]\n",
    "    _tokenized = tokenizer.texts_to_sequences(good)\n",
    "    _testing = pad_sequences(_tokenized, maxlen=MAX_SEQ_LENGTH)\n",
    "    _y_testing = model.predict(_testing, verbose = 1)\n",
    "    return np.argmax(_y_testing)"
   ]
  },
  {
   "cell_type": "code",
   "execution_count": 33,
   "metadata": {},
   "outputs": [
    {
     "name": "stdout",
     "output_type": "stream",
     "text": [
      "\r",
      "1/1 [==============================] - 0s 12ms/sample\n"
     ]
    }
   ],
   "source": [
    "new_product_id = test_comment(\"XXXX  and Transunion are reporting incorrectly that I am 120 days past due on loans with the XXXX  - partial account numbers XXXX ; XXXX ; XXXX ; XXXX.. These accounts reflect a {$0.00} balance and a {$0.00} past due. I have contacted the two bureaus and requested these coding errors be corrected. This incorrect reporting is harming my credit score. It is  impossible to be past due on accounts that have a {$0.00} balance and {$0.00} past due\")"
   ]
  },
  {
   "cell_type": "code",
   "execution_count": 34,
   "metadata": {},
   "outputs": [],
   "source": [
    "def get_product_name(new_product_id):\n",
    "    p_id = mapping[0][mapping[1]==new_product_id][0]\n",
    "    return products[\"MAIN_PRODUCT\"][products[\"PRODUCT_ID\"]==p_id].values[0]"
   ]
  },
  {
   "cell_type": "code",
   "execution_count": 35,
   "metadata": {},
   "outputs": [],
   "source": [
    "name = get_product_name(0)"
   ]
  },
  {
   "cell_type": "code",
   "execution_count": 36,
   "metadata": {},
   "outputs": [
    {
     "name": "stdout",
     "output_type": "stream",
     "text": [
      "Credit reporting, credit repair services, or other personal consumer reports\n"
     ]
    }
   ],
   "source": [
    "print(name)"
   ]
  },
  {
   "cell_type": "code",
   "execution_count": null,
   "metadata": {},
   "outputs": [],
   "source": []
  }
 ],
 "metadata": {
  "kernelspec": {
   "display_name": "Python 3",
   "language": "python",
   "name": "python3"
  },
  "language_info": {
   "codemirror_mode": {
    "name": "ipython",
    "version": 3
   },
   "file_extension": ".py",
   "mimetype": "text/x-python",
   "name": "python",
   "nbconvert_exporter": "python",
   "pygments_lexer": "ipython3",
   "version": "3.6.9"
  }
 },
 "nbformat": 4,
 "nbformat_minor": 4
}
